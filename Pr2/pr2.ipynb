{
  "nbformat": 4,
  "nbformat_minor": 0,
  "metadata": {
    "colab": {
      "provenance": []
    },
    "kernelspec": {
      "name": "python3",
      "display_name": "Python 3"
    },
    "language_info": {
      "name": "python"
    }
  },
  "cells": [
    {
      "cell_type": "markdown",
      "source": [
        "# Практическая работа №2\n",
        "\n",
        "## Тема: Анализ логов\n",
        "Выполнил: Очередько Антон\n"
      ],
      "metadata": {
        "id": "8EICaHITSiZC"
      }
    },
    {
      "cell_type": "markdown",
      "source": [
        "Клонирование репозитория с логами:"
      ],
      "metadata": {
        "id": "mq-a3f7TWXW-"
      }
    },
    {
      "cell_type": "code",
      "execution_count": null,
      "metadata": {
        "id": "zYLZGhJQSbbL",
        "colab": {
          "base_uri": "https://localhost:8080/"
        },
        "outputId": "7a1fa937-dffa-4c18-a7ee-8b8e0ce66dad"
      },
      "outputs": [
        {
          "output_type": "stream",
          "name": "stdout",
          "text": [
            "Cloning into 'loghub'...\n",
            "remote: Enumerating objects: 575, done.\u001b[K\n",
            "remote: Counting objects: 100% (174/174), done.\u001b[K\n",
            "remote: Compressing objects: 100% (40/40), done.\u001b[K\n",
            "remote: Total 575 (delta 146), reused 136 (delta 134), pack-reused 401\u001b[K\n",
            "Receiving objects: 100% (575/575), 7.27 MiB | 5.12 MiB/s, done.\n",
            "Resolving deltas: 100% (267/267), done.\n"
          ]
        }
      ],
      "source": [
        "import os.path\n",
        "\n",
        "if not os.path.isdir(\"./loghub/\"):\n",
        "    !git clone https://github.com/logpai/loghub"
      ]
    },
    {
      "cell_type": "markdown",
      "source": [
        "Описание структуры полей логов и разработка парсера\n",
        "\n",
        "Возьмем строчку из логов Thunderbird:\n",
        "```\n",
        "1131566461 2005.11.09 dn754 Nov 9 12:01:01 dn754/dn754 crond(pam_unix)[2913]: session closed for user root\n",
        "1131566461 2005.11.09 dn754 Nov 9 12:01:01 dn754/dn754 crond(pam_unix)[2913]: session opened for user root by (uid=0)\n",
        "```\n",
        "Регулярное выражение извлекает все поля записи лога и делит его на следующие группы:\n",
        "\n",
        "- Timestamp - временная метка `(\\d{10})`\n",
        "- Date - Дата YYYY:MM:DD `(\\d{4}.\\d{2}.\\d{2})`\n",
        "- User - Пользователь `(\\w*)`\n",
        "- Month - Месяц `(\\w{3})`\n",
        "- Day - День `(\\d{1,2})`\n",
        "- Time - Время HH:MM:SS `(\\d{2}:\\d{2}:\\d{2})`\n",
        "- Location - Местоположение `([\\w\\/#@-]+)`\n",
        "- Component - Компонент `(.*\\:):`\n",
        "- PID - Идентификатор `[(\\d+)\\]`\n",
        "- Content - Сообщение `(.*)`"
      ],
      "metadata": {
        "id": "3AGezVpgXOrF"
      }
    },
    {
      "cell_type": "markdown",
      "source": [],
      "metadata": {
        "id": "-zn70QeIar6Z"
      }
    },
    {
      "cell_type": "code",
      "source": [
        "import re\n",
        "\n",
        "pattern = r'-\\s(\\d{10})\\s(\\d{4}\\.\\d{2}\\.\\d{2})\\s(.*)\\s([\\w]{3})\\s(\\d{1,2})\\s(\\d{2}:\\d{2}:\\d{2})\\s([\\w\\/#@-]+)\\s(.*)\\[(\\d+)\\]:\\s(.*)'"
      ],
      "metadata": {
        "id": "bk8YkKwxWaNW"
      },
      "execution_count": null,
      "outputs": []
    },
    {
      "cell_type": "markdown",
      "source": [
        "Создание Базы Данных"
      ],
      "metadata": {
        "id": "__lLX3WNhNAg"
      }
    },
    {
      "cell_type": "code",
      "source": [
        "if not os.path.isdir(\"./db/\"):\n",
        "  os.makedirs(\"./db/\")"
      ],
      "metadata": {
        "id": "QBMMRLhBjrLo"
      },
      "execution_count": null,
      "outputs": []
    },
    {
      "cell_type": "code",
      "source": [
        "import sqlite3\n",
        "\n",
        "db_path = './db/logs.db'\n",
        "\n",
        "connection = sqlite3.connect(db_path)\n",
        "cursor = connection.cursor()\n",
        "\n",
        "cursor.execute(\"DROP TABLE IF EXISTS logs\")\n",
        "cursor.execute(\"CREATE TABLE logs (id INTEGER PRIMARY KEY AUTOINCREMENT, timestamp, date, user, month, day, time, location, component, pid, content)\")\n",
        "\n",
        "connection.commit()\n",
        "cursor.close()\n",
        "connection.close()"
      ],
      "metadata": {
        "id": "DGdAkEPSjst1"
      },
      "execution_count": null,
      "outputs": []
    },
    {
      "cell_type": "markdown",
      "source": [
        "Парсинг логов и сохранение записей"
      ],
      "metadata": {
        "id": "mtp-faVdj9cC"
      }
    },
    {
      "cell_type": "code",
      "source": [
        "#подключение к БД и создание курсора\n",
        "connection = sqlite3.connect(db_path)\n",
        "cursor = connection.cursor()\n",
        "\n",
        "#очистка таблицы (во избежания дублирования данных)\n",
        "cursor.execute(\"DELETE FROM logs\")\n",
        "\n",
        "#парсинг файла с логами\n",
        "with open('./loghub/Thunderbird/Thunderbird_2k.log', 'r', encoding='utf-8') as log_file:\n",
        "    for line in log_file:\n",
        "        log_match = re.match(pattern, line)\n",
        "        if log_match:\n",
        "            timestamp = log_match.group(1) # Временная метка\n",
        "            date = log_match.group(2) # Дата\n",
        "            user = log_match.group(3) # Пользователь\n",
        "            month = log_match.group(4) # Месяц\n",
        "            day = log_match.group(5) # День\n",
        "            time = log_match.group(6) # Время\n",
        "            location = log_match.group(7) # Местоположение\n",
        "            component = log_match.group(8) # Компонент\n",
        "            pid = log_match.group(9) # Идентификатор\n",
        "            content = log_match.group(10) # Сообщение\n",
        "            values = (timestamp, date, user, month, day, time, location, component, pid, content)\n",
        "            sql = \"INSERT INTO logs (timestamp, date, user, month, day, time, location, component, pid, content) VALUES (?, ?, ?, ?, ?, ?, ?, ?, ?, ?)\"\n",
        "            cursor.execute(sql, values)\n",
        "\n",
        "\n",
        "connection.commit()\n",
        "cursor.close()\n",
        "connection.close()"
      ],
      "metadata": {
        "id": "uykUcdzwkGTZ"
      },
      "execution_count": null,
      "outputs": []
    },
    {
      "cell_type": "markdown",
      "source": [
        "Чтение записей из БД"
      ],
      "metadata": {
        "id": "vizRSlWNkvq8"
      }
    },
    {
      "cell_type": "code",
      "source": [
        "import pandas as pd\n",
        "\n",
        "#установка соединения с базой данных\n",
        "connection = sqlite3.connect(db_path)\n",
        "cursor = connection.cursor()\n",
        "\n",
        "#выполнение запроса к базе данных и получиение данные\n",
        "cursor.execute(\"SELECT * FROM logs\")\n",
        "rows = cursor.fetchall()\n",
        "\n",
        "#закрытие курсора и соединения с базой данных\n",
        "cursor.close()\n",
        "connection.close()\n",
        "\n",
        "#создание DataFrame из полученных данных\n",
        "log_df = pd.DataFrame(rows, columns=(\"id\", \"timestamp\", \"date\", \"user\", \"month\", \"day\", \"time\", \"location\", \"component\", \"pid\", \"content\"))\n",
        "\n",
        "#вывод DataFrame\n",
        "log_df"
      ],
      "metadata": {
        "colab": {
          "base_uri": "https://localhost:8080/",
          "height": 424
        },
        "id": "Mli5UQOmkyxQ",
        "outputId": "28575b60-970a-453c-a5b2-e5ff505ec4b3"
      },
      "execution_count": null,
      "outputs": [
        {
          "output_type": "execute_result",
          "data": {
            "text/plain": [
              "        id   timestamp        date          user month day      time  \\\n",
              "0        1  1131566461  2005.11.09         dn228   Nov   9  12:01:01   \n",
              "1        2  1131566461  2005.11.09         dn228   Nov   9  12:01:01   \n",
              "2        3  1131566461  2005.11.09         dn228   Nov   9  12:01:01   \n",
              "3        4  1131566461  2005.11.09         dn261   Nov   9  12:01:01   \n",
              "4        5  1131566461  2005.11.09         dn261   Nov   9  12:01:01   \n",
              "...    ...         ...         ...           ...   ...  ..       ...   \n",
              "1740  1741  1131567330  2005.11.09         bn964   Nov   9  12:15:30   \n",
              "1741  1742  1131567330  2005.11.09  tbird-admin1   Nov   9  12:15:30   \n",
              "1742  1743  1131567331  2005.11.09           bn3   Nov   9  12:15:31   \n",
              "1743  1744  1131567331  2005.11.09         cn918   Nov   9  12:15:31   \n",
              "1744  1745  1131567332  2005.11.09         cn390   Nov   9  12:15:32   \n",
              "\n",
              "                location                                      component  \\\n",
              "0            dn228/dn228                                crond(pam_unix)   \n",
              "1            dn228/dn228                                crond(pam_unix)   \n",
              "2            dn228/dn228                                          crond   \n",
              "3            dn261/dn261                                crond(pam_unix)   \n",
              "4            dn261/dn261                                crond(pam_unix)   \n",
              "...                  ...                                            ...   \n",
              "1740         bn964/bn964                                           ntpd   \n",
              "1741  local@tbird-admin1  /apps/x86_64/system/ganglia-3.0.1/sbin/gmetad   \n",
              "1742             bn3/bn3                                           ntpd   \n",
              "1743         cn918/cn918                                           ntpd   \n",
              "1744         cn390/cn390                                           ntpd   \n",
              "\n",
              "        pid                                            content  \n",
              "0      2915                       session closed for user root  \n",
              "1      2915            session opened for user root by (uid=0)  \n",
              "2      2916            (root) CMD (run-parts /etc/cron.hourly)  \n",
              "3      2907                       session closed for user root  \n",
              "4      2907            session opened for user root by (uid=0)  \n",
              "...     ...                                                ...  \n",
              "1740  15605           synchronized to 10.100.22.250, stratum 3  \n",
              "1741   1682  data_thread() got not answer from any [Thunder...  \n",
              "1742  22869           synchronized to 10.100.16.250, stratum 3  \n",
              "1743  29960           synchronized to 10.100.22.250, stratum 3  \n",
              "1744  10152           synchronized to 10.100.20.250, stratum 3  \n",
              "\n",
              "[1745 rows x 11 columns]"
            ],
            "text/html": [
              "\n",
              "  <div id=\"df-bceb3f1a-6fb2-4b59-962a-3c864fb1cf9c\" class=\"colab-df-container\">\n",
              "    <div>\n",
              "<style scoped>\n",
              "    .dataframe tbody tr th:only-of-type {\n",
              "        vertical-align: middle;\n",
              "    }\n",
              "\n",
              "    .dataframe tbody tr th {\n",
              "        vertical-align: top;\n",
              "    }\n",
              "\n",
              "    .dataframe thead th {\n",
              "        text-align: right;\n",
              "    }\n",
              "</style>\n",
              "<table border=\"1\" class=\"dataframe\">\n",
              "  <thead>\n",
              "    <tr style=\"text-align: right;\">\n",
              "      <th></th>\n",
              "      <th>id</th>\n",
              "      <th>timestamp</th>\n",
              "      <th>date</th>\n",
              "      <th>user</th>\n",
              "      <th>month</th>\n",
              "      <th>day</th>\n",
              "      <th>time</th>\n",
              "      <th>location</th>\n",
              "      <th>component</th>\n",
              "      <th>pid</th>\n",
              "      <th>content</th>\n",
              "    </tr>\n",
              "  </thead>\n",
              "  <tbody>\n",
              "    <tr>\n",
              "      <th>0</th>\n",
              "      <td>1</td>\n",
              "      <td>1131566461</td>\n",
              "      <td>2005.11.09</td>\n",
              "      <td>dn228</td>\n",
              "      <td>Nov</td>\n",
              "      <td>9</td>\n",
              "      <td>12:01:01</td>\n",
              "      <td>dn228/dn228</td>\n",
              "      <td>crond(pam_unix)</td>\n",
              "      <td>2915</td>\n",
              "      <td>session closed for user root</td>\n",
              "    </tr>\n",
              "    <tr>\n",
              "      <th>1</th>\n",
              "      <td>2</td>\n",
              "      <td>1131566461</td>\n",
              "      <td>2005.11.09</td>\n",
              "      <td>dn228</td>\n",
              "      <td>Nov</td>\n",
              "      <td>9</td>\n",
              "      <td>12:01:01</td>\n",
              "      <td>dn228/dn228</td>\n",
              "      <td>crond(pam_unix)</td>\n",
              "      <td>2915</td>\n",
              "      <td>session opened for user root by (uid=0)</td>\n",
              "    </tr>\n",
              "    <tr>\n",
              "      <th>2</th>\n",
              "      <td>3</td>\n",
              "      <td>1131566461</td>\n",
              "      <td>2005.11.09</td>\n",
              "      <td>dn228</td>\n",
              "      <td>Nov</td>\n",
              "      <td>9</td>\n",
              "      <td>12:01:01</td>\n",
              "      <td>dn228/dn228</td>\n",
              "      <td>crond</td>\n",
              "      <td>2916</td>\n",
              "      <td>(root) CMD (run-parts /etc/cron.hourly)</td>\n",
              "    </tr>\n",
              "    <tr>\n",
              "      <th>3</th>\n",
              "      <td>4</td>\n",
              "      <td>1131566461</td>\n",
              "      <td>2005.11.09</td>\n",
              "      <td>dn261</td>\n",
              "      <td>Nov</td>\n",
              "      <td>9</td>\n",
              "      <td>12:01:01</td>\n",
              "      <td>dn261/dn261</td>\n",
              "      <td>crond(pam_unix)</td>\n",
              "      <td>2907</td>\n",
              "      <td>session closed for user root</td>\n",
              "    </tr>\n",
              "    <tr>\n",
              "      <th>4</th>\n",
              "      <td>5</td>\n",
              "      <td>1131566461</td>\n",
              "      <td>2005.11.09</td>\n",
              "      <td>dn261</td>\n",
              "      <td>Nov</td>\n",
              "      <td>9</td>\n",
              "      <td>12:01:01</td>\n",
              "      <td>dn261/dn261</td>\n",
              "      <td>crond(pam_unix)</td>\n",
              "      <td>2907</td>\n",
              "      <td>session opened for user root by (uid=0)</td>\n",
              "    </tr>\n",
              "    <tr>\n",
              "      <th>...</th>\n",
              "      <td>...</td>\n",
              "      <td>...</td>\n",
              "      <td>...</td>\n",
              "      <td>...</td>\n",
              "      <td>...</td>\n",
              "      <td>...</td>\n",
              "      <td>...</td>\n",
              "      <td>...</td>\n",
              "      <td>...</td>\n",
              "      <td>...</td>\n",
              "      <td>...</td>\n",
              "    </tr>\n",
              "    <tr>\n",
              "      <th>1740</th>\n",
              "      <td>1741</td>\n",
              "      <td>1131567330</td>\n",
              "      <td>2005.11.09</td>\n",
              "      <td>bn964</td>\n",
              "      <td>Nov</td>\n",
              "      <td>9</td>\n",
              "      <td>12:15:30</td>\n",
              "      <td>bn964/bn964</td>\n",
              "      <td>ntpd</td>\n",
              "      <td>15605</td>\n",
              "      <td>synchronized to 10.100.22.250, stratum 3</td>\n",
              "    </tr>\n",
              "    <tr>\n",
              "      <th>1741</th>\n",
              "      <td>1742</td>\n",
              "      <td>1131567330</td>\n",
              "      <td>2005.11.09</td>\n",
              "      <td>tbird-admin1</td>\n",
              "      <td>Nov</td>\n",
              "      <td>9</td>\n",
              "      <td>12:15:30</td>\n",
              "      <td>local@tbird-admin1</td>\n",
              "      <td>/apps/x86_64/system/ganglia-3.0.1/sbin/gmetad</td>\n",
              "      <td>1682</td>\n",
              "      <td>data_thread() got not answer from any [Thunder...</td>\n",
              "    </tr>\n",
              "    <tr>\n",
              "      <th>1742</th>\n",
              "      <td>1743</td>\n",
              "      <td>1131567331</td>\n",
              "      <td>2005.11.09</td>\n",
              "      <td>bn3</td>\n",
              "      <td>Nov</td>\n",
              "      <td>9</td>\n",
              "      <td>12:15:31</td>\n",
              "      <td>bn3/bn3</td>\n",
              "      <td>ntpd</td>\n",
              "      <td>22869</td>\n",
              "      <td>synchronized to 10.100.16.250, stratum 3</td>\n",
              "    </tr>\n",
              "    <tr>\n",
              "      <th>1743</th>\n",
              "      <td>1744</td>\n",
              "      <td>1131567331</td>\n",
              "      <td>2005.11.09</td>\n",
              "      <td>cn918</td>\n",
              "      <td>Nov</td>\n",
              "      <td>9</td>\n",
              "      <td>12:15:31</td>\n",
              "      <td>cn918/cn918</td>\n",
              "      <td>ntpd</td>\n",
              "      <td>29960</td>\n",
              "      <td>synchronized to 10.100.22.250, stratum 3</td>\n",
              "    </tr>\n",
              "    <tr>\n",
              "      <th>1744</th>\n",
              "      <td>1745</td>\n",
              "      <td>1131567332</td>\n",
              "      <td>2005.11.09</td>\n",
              "      <td>cn390</td>\n",
              "      <td>Nov</td>\n",
              "      <td>9</td>\n",
              "      <td>12:15:32</td>\n",
              "      <td>cn390/cn390</td>\n",
              "      <td>ntpd</td>\n",
              "      <td>10152</td>\n",
              "      <td>synchronized to 10.100.20.250, stratum 3</td>\n",
              "    </tr>\n",
              "  </tbody>\n",
              "</table>\n",
              "<p>1745 rows × 11 columns</p>\n",
              "</div>\n",
              "    <div class=\"colab-df-buttons\">\n",
              "\n",
              "  <div class=\"colab-df-container\">\n",
              "    <button class=\"colab-df-convert\" onclick=\"convertToInteractive('df-bceb3f1a-6fb2-4b59-962a-3c864fb1cf9c')\"\n",
              "            title=\"Convert this dataframe to an interactive table.\"\n",
              "            style=\"display:none;\">\n",
              "\n",
              "  <svg xmlns=\"http://www.w3.org/2000/svg\" height=\"24px\" viewBox=\"0 -960 960 960\">\n",
              "    <path d=\"M120-120v-720h720v720H120Zm60-500h600v-160H180v160Zm220 220h160v-160H400v160Zm0 220h160v-160H400v160ZM180-400h160v-160H180v160Zm440 0h160v-160H620v160ZM180-180h160v-160H180v160Zm440 0h160v-160H620v160Z\"/>\n",
              "  </svg>\n",
              "    </button>\n",
              "\n",
              "  <style>\n",
              "    .colab-df-container {\n",
              "      display:flex;\n",
              "      gap: 12px;\n",
              "    }\n",
              "\n",
              "    .colab-df-convert {\n",
              "      background-color: #E8F0FE;\n",
              "      border: none;\n",
              "      border-radius: 50%;\n",
              "      cursor: pointer;\n",
              "      display: none;\n",
              "      fill: #1967D2;\n",
              "      height: 32px;\n",
              "      padding: 0 0 0 0;\n",
              "      width: 32px;\n",
              "    }\n",
              "\n",
              "    .colab-df-convert:hover {\n",
              "      background-color: #E2EBFA;\n",
              "      box-shadow: 0px 1px 2px rgba(60, 64, 67, 0.3), 0px 1px 3px 1px rgba(60, 64, 67, 0.15);\n",
              "      fill: #174EA6;\n",
              "    }\n",
              "\n",
              "    .colab-df-buttons div {\n",
              "      margin-bottom: 4px;\n",
              "    }\n",
              "\n",
              "    [theme=dark] .colab-df-convert {\n",
              "      background-color: #3B4455;\n",
              "      fill: #D2E3FC;\n",
              "    }\n",
              "\n",
              "    [theme=dark] .colab-df-convert:hover {\n",
              "      background-color: #434B5C;\n",
              "      box-shadow: 0px 1px 3px 1px rgba(0, 0, 0, 0.15);\n",
              "      filter: drop-shadow(0px 1px 2px rgba(0, 0, 0, 0.3));\n",
              "      fill: #FFFFFF;\n",
              "    }\n",
              "  </style>\n",
              "\n",
              "    <script>\n",
              "      const buttonEl =\n",
              "        document.querySelector('#df-bceb3f1a-6fb2-4b59-962a-3c864fb1cf9c button.colab-df-convert');\n",
              "      buttonEl.style.display =\n",
              "        google.colab.kernel.accessAllowed ? 'block' : 'none';\n",
              "\n",
              "      async function convertToInteractive(key) {\n",
              "        const element = document.querySelector('#df-bceb3f1a-6fb2-4b59-962a-3c864fb1cf9c');\n",
              "        const dataTable =\n",
              "          await google.colab.kernel.invokeFunction('convertToInteractive',\n",
              "                                                    [key], {});\n",
              "        if (!dataTable) return;\n",
              "\n",
              "        const docLinkHtml = 'Like what you see? Visit the ' +\n",
              "          '<a target=\"_blank\" href=https://colab.research.google.com/notebooks/data_table.ipynb>data table notebook</a>'\n",
              "          + ' to learn more about interactive tables.';\n",
              "        element.innerHTML = '';\n",
              "        dataTable['output_type'] = 'display_data';\n",
              "        await google.colab.output.renderOutput(dataTable, element);\n",
              "        const docLink = document.createElement('div');\n",
              "        docLink.innerHTML = docLinkHtml;\n",
              "        element.appendChild(docLink);\n",
              "      }\n",
              "    </script>\n",
              "  </div>\n",
              "\n",
              "\n",
              "<div id=\"df-f4195337-75f1-4af7-92ed-3503f6969d55\">\n",
              "  <button class=\"colab-df-quickchart\" onclick=\"quickchart('df-f4195337-75f1-4af7-92ed-3503f6969d55')\"\n",
              "            title=\"Suggest charts\"\n",
              "            style=\"display:none;\">\n",
              "\n",
              "<svg xmlns=\"http://www.w3.org/2000/svg\" height=\"24px\"viewBox=\"0 0 24 24\"\n",
              "     width=\"24px\">\n",
              "    <g>\n",
              "        <path d=\"M19 3H5c-1.1 0-2 .9-2 2v14c0 1.1.9 2 2 2h14c1.1 0 2-.9 2-2V5c0-1.1-.9-2-2-2zM9 17H7v-7h2v7zm4 0h-2V7h2v10zm4 0h-2v-4h2v4z\"/>\n",
              "    </g>\n",
              "</svg>\n",
              "  </button>\n",
              "\n",
              "<style>\n",
              "  .colab-df-quickchart {\n",
              "      --bg-color: #E8F0FE;\n",
              "      --fill-color: #1967D2;\n",
              "      --hover-bg-color: #E2EBFA;\n",
              "      --hover-fill-color: #174EA6;\n",
              "      --disabled-fill-color: #AAA;\n",
              "      --disabled-bg-color: #DDD;\n",
              "  }\n",
              "\n",
              "  [theme=dark] .colab-df-quickchart {\n",
              "      --bg-color: #3B4455;\n",
              "      --fill-color: #D2E3FC;\n",
              "      --hover-bg-color: #434B5C;\n",
              "      --hover-fill-color: #FFFFFF;\n",
              "      --disabled-bg-color: #3B4455;\n",
              "      --disabled-fill-color: #666;\n",
              "  }\n",
              "\n",
              "  .colab-df-quickchart {\n",
              "    background-color: var(--bg-color);\n",
              "    border: none;\n",
              "    border-radius: 50%;\n",
              "    cursor: pointer;\n",
              "    display: none;\n",
              "    fill: var(--fill-color);\n",
              "    height: 32px;\n",
              "    padding: 0;\n",
              "    width: 32px;\n",
              "  }\n",
              "\n",
              "  .colab-df-quickchart:hover {\n",
              "    background-color: var(--hover-bg-color);\n",
              "    box-shadow: 0 1px 2px rgba(60, 64, 67, 0.3), 0 1px 3px 1px rgba(60, 64, 67, 0.15);\n",
              "    fill: var(--button-hover-fill-color);\n",
              "  }\n",
              "\n",
              "  .colab-df-quickchart-complete:disabled,\n",
              "  .colab-df-quickchart-complete:disabled:hover {\n",
              "    background-color: var(--disabled-bg-color);\n",
              "    fill: var(--disabled-fill-color);\n",
              "    box-shadow: none;\n",
              "  }\n",
              "\n",
              "  .colab-df-spinner {\n",
              "    border: 2px solid var(--fill-color);\n",
              "    border-color: transparent;\n",
              "    border-bottom-color: var(--fill-color);\n",
              "    animation:\n",
              "      spin 1s steps(1) infinite;\n",
              "  }\n",
              "\n",
              "  @keyframes spin {\n",
              "    0% {\n",
              "      border-color: transparent;\n",
              "      border-bottom-color: var(--fill-color);\n",
              "      border-left-color: var(--fill-color);\n",
              "    }\n",
              "    20% {\n",
              "      border-color: transparent;\n",
              "      border-left-color: var(--fill-color);\n",
              "      border-top-color: var(--fill-color);\n",
              "    }\n",
              "    30% {\n",
              "      border-color: transparent;\n",
              "      border-left-color: var(--fill-color);\n",
              "      border-top-color: var(--fill-color);\n",
              "      border-right-color: var(--fill-color);\n",
              "    }\n",
              "    40% {\n",
              "      border-color: transparent;\n",
              "      border-right-color: var(--fill-color);\n",
              "      border-top-color: var(--fill-color);\n",
              "    }\n",
              "    60% {\n",
              "      border-color: transparent;\n",
              "      border-right-color: var(--fill-color);\n",
              "    }\n",
              "    80% {\n",
              "      border-color: transparent;\n",
              "      border-right-color: var(--fill-color);\n",
              "      border-bottom-color: var(--fill-color);\n",
              "    }\n",
              "    90% {\n",
              "      border-color: transparent;\n",
              "      border-bottom-color: var(--fill-color);\n",
              "    }\n",
              "  }\n",
              "</style>\n",
              "\n",
              "  <script>\n",
              "    async function quickchart(key) {\n",
              "      const quickchartButtonEl =\n",
              "        document.querySelector('#' + key + ' button');\n",
              "      quickchartButtonEl.disabled = true;  // To prevent multiple clicks.\n",
              "      quickchartButtonEl.classList.add('colab-df-spinner');\n",
              "      try {\n",
              "        const charts = await google.colab.kernel.invokeFunction(\n",
              "            'suggestCharts', [key], {});\n",
              "      } catch (error) {\n",
              "        console.error('Error during call to suggestCharts:', error);\n",
              "      }\n",
              "      quickchartButtonEl.classList.remove('colab-df-spinner');\n",
              "      quickchartButtonEl.classList.add('colab-df-quickchart-complete');\n",
              "    }\n",
              "    (() => {\n",
              "      let quickchartButtonEl =\n",
              "        document.querySelector('#df-f4195337-75f1-4af7-92ed-3503f6969d55 button');\n",
              "      quickchartButtonEl.style.display =\n",
              "        google.colab.kernel.accessAllowed ? 'block' : 'none';\n",
              "    })();\n",
              "  </script>\n",
              "</div>\n",
              "    </div>\n",
              "  </div>\n"
            ],
            "application/vnd.google.colaboratory.intrinsic+json": {
              "type": "dataframe",
              "variable_name": "log_df",
              "summary": "{\n  \"name\": \"log_df\",\n  \"rows\": 1745,\n  \"fields\": [\n    {\n      \"column\": \"id\",\n      \"properties\": {\n        \"dtype\": \"number\",\n        \"std\": 503,\n        \"min\": 1,\n        \"max\": 1745,\n        \"num_unique_values\": 1745,\n        \"samples\": [\n          366,\n          345,\n          1607\n        ],\n        \"semantic_type\": \"\",\n        \"description\": \"\"\n      }\n    },\n    {\n      \"column\": \"timestamp\",\n      \"properties\": {\n        \"dtype\": \"category\",\n        \"num_unique_values\": 717,\n        \"samples\": [\n          \"1131566609\",\n          \"1131566858\",\n          \"1131566508\"\n        ],\n        \"semantic_type\": \"\",\n        \"description\": \"\"\n      }\n    },\n    {\n      \"column\": \"date\",\n      \"properties\": {\n        \"dtype\": \"object\",\n        \"num_unique_values\": 1,\n        \"samples\": [\n          \"2005.11.09\"\n        ],\n        \"semantic_type\": \"\",\n        \"description\": \"\"\n      }\n    },\n    {\n      \"column\": \"user\",\n      \"properties\": {\n        \"dtype\": \"category\",\n        \"num_unique_values\": 488,\n        \"samples\": [\n          \"cn737\"\n        ],\n        \"semantic_type\": \"\",\n        \"description\": \"\"\n      }\n    },\n    {\n      \"column\": \"month\",\n      \"properties\": {\n        \"dtype\": \"category\",\n        \"num_unique_values\": 1,\n        \"samples\": [\n          \"Nov\"\n        ],\n        \"semantic_type\": \"\",\n        \"description\": \"\"\n      }\n    },\n    {\n      \"column\": \"day\",\n      \"properties\": {\n        \"dtype\": \"category\",\n        \"num_unique_values\": 1,\n        \"samples\": [\n          \"9\"\n        ],\n        \"semantic_type\": \"\",\n        \"description\": \"\"\n      }\n    },\n    {\n      \"column\": \"time\",\n      \"properties\": {\n        \"dtype\": \"object\",\n        \"num_unique_values\": 717,\n        \"samples\": [\n          \"12:03:29\"\n        ],\n        \"semantic_type\": \"\",\n        \"description\": \"\"\n      }\n    },\n    {\n      \"column\": \"location\",\n      \"properties\": {\n        \"dtype\": \"category\",\n        \"num_unique_values\": 488,\n        \"samples\": [\n          \"cn737/cn737\"\n        ],\n        \"semantic_type\": \"\",\n        \"description\": \"\"\n      }\n    },\n    {\n      \"column\": \"component\",\n      \"properties\": {\n        \"dtype\": \"category\",\n        \"num_unique_values\": 15,\n        \"samples\": [\n          \"IOAPIC\"\n        ],\n        \"semantic_type\": \"\",\n        \"description\": \"\"\n      }\n    },\n    {\n      \"column\": \"pid\",\n      \"properties\": {\n        \"dtype\": \"category\",\n        \"num_unique_values\": 526,\n        \"samples\": [\n          \"29020\"\n        ],\n        \"semantic_type\": \"\",\n        \"description\": \"\"\n      }\n    },\n    {\n      \"column\": \"content\",\n      \"properties\": {\n        \"dtype\": \"category\",\n        \"num_unique_values\": 147,\n        \"samples\": [\n          \"removing ftp\"\n        ],\n        \"semantic_type\": \"\",\n        \"description\": \"\"\n      }\n    }\n  ]\n}"
            }
          },
          "metadata": {},
          "execution_count": 7
        }
      ]
    },
    {
      "cell_type": "markdown",
      "source": [
        "Построение графика действий пяти наиболее часто встречающихся пользователей"
      ],
      "metadata": {
        "id": "54Q4fnatlFbc"
      }
    },
    {
      "cell_type": "code",
      "source": [
        "import matplotlib.pyplot as plt\n",
        "\n",
        "#выполнение подсчета распределения пользователей\n",
        "log_user_distrib = log_df['user'].value_counts()\n",
        "\n",
        "#получение ключей (пользователи) и их значения (количество действий)\n",
        "x = log_user_distrib.keys()\n",
        "y = log_user_distrib.values\n",
        "\n",
        "#построение графика\n",
        "plt.xlabel('Пользователи')\n",
        "plt.ylabel('Кол-во действий')\n",
        "plt.plot(x[:4], y[:4], marker='o', color='red')\n",
        "for i, txt in enumerate(y[:4]):\n",
        "    plt.text(x[i], y[i], str(txt), ha='center', va='bottom')\n",
        "\n",
        "#отображение графика\n",
        "plt.show()"
      ],
      "metadata": {
        "colab": {
          "base_uri": "https://localhost:8080/",
          "height": 449
        },
        "id": "zQ68CeTPlJnM",
        "outputId": "c21d23b2-a508-426c-ea80-15d7921e3ea5"
      },
      "execution_count": null,
      "outputs": [
        {
          "output_type": "display_data",
          "data": {
            "text/plain": [
              "<Figure size 640x480 with 1 Axes>"
            ],
            "image/png": "[encoded data removed]"
          },
          "metadata": {}
        }
      ]
    },
    {
      "cell_type": "markdown",
      "source": [
        "Создание графика, который отображает распределение записей по 10 наиболее часто встречающимся компонентам, которые создали записи в логах"
      ],
      "metadata": {
        "id": "EEhxlkoMlTj8"
      }
    },
    {
      "cell_type": "code",
      "source": [
        "#подсчет распределения компонентов\n",
        "component_counts = log_df['component'].value_counts()\n",
        "\n",
        "#топ-10 наиболее часто встречающихся компонентов\n",
        "top_10_components = component_counts.head(10)\n",
        "\n",
        "#название графика\n",
        "plt.title('Топ-10 наиболее часто встречающихся компонентов')\n",
        "\n",
        "#построение графика распределения\n",
        "plt.bar(top_10_components.index, top_10_components.values, color='red')\n",
        "\n",
        "#добавление подписи к осям\n",
        "plt.xlabel('Компонент')\n",
        "plt.ylabel('Количество')\n",
        "\n",
        "#поворот подписи категорий столбцов на 90 градусов, для удобства чтения\n",
        "plt.xticks(rotation=90)\n",
        "for i, value in enumerate(top_10_components.values):\n",
        "    plt.text(i, value, str(value), ha='center', va='bottom')\n",
        "\n",
        "#отображение графика\n",
        "plt.show()"
      ],
      "metadata": {
        "colab": {
          "base_uri": "https://localhost:8080/",
          "height": 794
        },
        "id": "2XDkpwo7ltt2",
        "outputId": "1b27f6be-5bfe-49a9-8743-4aceeb89bf0d"
      },
      "execution_count": null,
      "outputs": [
        {
          "output_type": "display_data",
          "data": {
            "text/plain": [
              "<Figure size 640x480 with 1 Axes>"
            ],
            "image/png": "[encoded data removed]"
          },
          "metadata": {}
        }
      ]
    },
    {
      "cell_type": "markdown",
      "source": [
        "Создание графика, который отображает распределение записей по 10 наименее часто встречающимся компонентам, которые создали записи в логах"
      ],
      "metadata": {
        "id": "n2nj8xSus_kC"
      }
    },
    {
      "cell_type": "code",
      "source": [
        "#подсчет распределения компонентов\n",
        "component_counts = log_df['component'].value_counts()\n",
        "\n",
        "#топ-10 наиболее редко встречающихся компонентов\n",
        "top_10_rarest_components = component_counts.tail(10)\n",
        "\n",
        "#название графика\n",
        "plt.title('Топ-10 наиболее редко встречающихся компонентов')\n",
        "\n",
        "#построение графика распределения\n",
        "plt.bar(top_10_rarest_components.index, top_10_rarest_components.values, color='red')\n",
        "\n",
        "#добавление подписи к осям\n",
        "plt.xlabel('Компонент')\n",
        "plt.ylabel('Количество')\n",
        "\n",
        "#поворот подписи категорий столбцов на 90 градусов, для удобства чтения\n",
        "plt.xticks(rotation=90)\n",
        "for i, value in enumerate(top_10_rarest_components.values):\n",
        "    plt.text(i, value, str(value), ha='center', va='bottom')\n",
        "\n",
        "#отображение графика\n",
        "plt.show()\n"
      ],
      "metadata": {
        "colab": {
          "base_uri": "https://localhost:8080/",
          "height": 524
        },
        "id": "5ELfCr-TpJoM",
        "outputId": "13203865-1e21-4dc7-d21e-6d9d8b16c96f"
      },
      "execution_count": null,
      "outputs": [
        {
          "output_type": "display_data",
          "data": {
            "text/plain": [
              "<Figure size 640x480 with 1 Axes>"
            ],
            "image/png": "[encoded data removed]"
          },
          "metadata": {}
        }
      ]
    }
  ]
}